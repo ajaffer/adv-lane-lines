{
 "cells": [
  {
   "cell_type": "markdown",
   "metadata": {},
   "source": [
    "## Advanced Lane Finding Project\n",
    "\n",
    "The goals / steps of this project are the following:\n",
    "\n",
    "* Compute the camera calibration matrix and distortion coefficients given a set of chessboard images.\n",
    "* Apply a distortion correction to raw images.\n",
    "* Use color transforms, gradients, etc., to create a thresholded binary image.\n",
    "* Apply a perspective transform to rectify binary image (\"birds-eye view\").\n",
    "* Detect lane pixels and fit to find the lane boundary.\n",
    "* Determine the curvature of the lane and vehicle position with respect to center.\n",
    "* Warp the detected lane boundaries back onto the original image.\n",
    "* Output visual display of the lane boundaries and numerical estimation of lane curvature and vehicle position.\n",
    "\n",
    "---"
   ]
  },
  {
   "cell_type": "markdown",
   "metadata": {},
   "source": [
    "## Imports"
   ]
  },
  {
   "cell_type": "code",
   "execution_count": 3,
   "metadata": {
    "collapsed": true
   },
   "outputs": [],
   "source": [
    "import numpy as np\n",
    "import cv2\n",
    "import glob\n",
    "import matplotlib\n",
    "#matplotlib.use('qt5agg')\n",
    "import matplotlib.pyplot as plt\n",
    "\n",
    "\n",
    "%matplotlib qt5\n",
    "#%matplotlib qt\n"
   ]
  },
  {
   "cell_type": "markdown",
   "metadata": {},
   "source": [
    "## Utility functions"
   ]
  },
  {
   "cell_type": "code",
   "execution_count": 37,
   "metadata": {},
   "outputs": [],
   "source": [
    "def grayscale(img):\n",
    "    \"\"\"Applies the Grayscale transform\"\"\"\n",
    "    return cv2.cvtColor(img, cv2.COLOR_RGB2GRAY)\n",
    "\n",
    "def calibrate(images):\n",
    "    \"\"\"Computes the camera calibration using chessboard images\"\"\"\n",
    "    objp = np.zeros((6*9,3), np.float32)\n",
    "    objp[:,:2] = np.mgrid[0:9,0:6].T.reshape(-1,2)\n",
    "\n",
    "    # Arrays to store object points and image points from all the images.\n",
    "    objpoints = [] # 3d points in real world space\n",
    "    imgpoints = [] # 2d points in image plane.\n",
    "\n",
    "\n",
    "    # Step through the list and search for chessboard corners\n",
    "    for fname in images:\n",
    "        print(\"processing image: {}\".format(fname))\n",
    "        img = cv2.imread(fname)\n",
    "        gray = cv2.cvtColor(img,cv2.COLOR_BGR2GRAY)\n",
    "\n",
    "        # Find the chessboard corners\n",
    "        ret, corners = cv2.findChessboardCorners(gray, (9,6),None)\n",
    "\n",
    "        # If found, add object points, image points\n",
    "        if ret == True:\n",
    "            objpoints.append(objp)\n",
    "            imgpoints.append(corners)\n",
    "\n",
    "    retval, cameraMatrix, distCoeffs, rvecs, tvecs = cv2.calibrateCamera(objpoints, imgpoints, img.shape[0:2], None, None)\n",
    "    return cameraMatrix, distCoeffs\n",
    "\n",
    "\n",
    "def undistort_image(img, mtx, dist):\n",
    "    \"\"\"Apply a distortion correction to raw image\"\"\"\n",
    "    import matplotlib.image as mpimg\n",
    "    dst = cv2.undistort(img, mtx, dist, None, mtx)\n",
    "    return dst\n",
    "\n",
    "def hls_transform(img):\n",
    "    \"\"\"Applies the hsl transform\"\"\"\n",
    "    return cv2.cvtColor(img, cv2.COLOR_RGB2HLS)\n",
    "\n",
    "def sobel_operator(img, dir='x'):\n",
    "    gray = grayscale(img)\n",
    "    if (dir == 'x'):\n",
    "        return cv2.Sobel(gray, cv2.CV_64F, 1, 0)\n",
    "    else:\n",
    "        return cv2.Sobel(gray, cv2.CV_64F, 0, 1)\n",
    "    \n",
    "def sobel_scale(img_sobel):\n",
    "    \"\"\"Absolute the derivative to accentuate lines away from horizontal/vertical??\"\"\"\n",
    "    abs_sobel = np.absolute(img_sobel) \n",
    "    scaled_sobel = np.uint8(255*abs_sobel/np.max(abs_sobel))\n",
    "    return scaled_sobel\n",
    "\n",
    "def threshold_image(img, thresh=(20, 100)):\n",
    "    s_binary = np.zeros_like(img)\n",
    "    s_binary[(img >= thresh[0]) & (img <= thresh[1])] = 1\n",
    "    return s_binary\n",
    "\n",
    "def plot_2_images(img1, img2, title1='original',title2='processed'):\n",
    "    import matplotlib.pyplot as plt\n",
    "\n",
    "    f, (ax1, ax2) = plt.subplots(1, 2, figsize=(48, 18))\n",
    "    f.tight_layout()\n",
    "    ax1.imshow(img1)\n",
    "    ax1.set_title(title1, fontsize=50)\n",
    "    ax2.imshow(img2, cmap='gray')\n",
    "    ax2.set_title(title2, fontsize=50)\n",
    "    plt.subplots_adjust(left=0., right=1, top=0.9, bottom=0.)\n",
    "    \n",
    "    \n",
    "def plot_image_title(img, title='', text=''):\n",
    "    \n",
    "    font = {'family': 'serif',\n",
    "            'color':  'white',\n",
    "            'weight': 'normal',\n",
    "            'size': 28,\n",
    "            }\n",
    "        \n",
    "    f, ax = plt.subplots(1, 1, figsize=(48, 18))\n",
    "    f.tight_layout()\n",
    "    ax.imshow(img)\n",
    "    plt.text(2, 75.65, text, fontdict=font)\n",
    "    ax.set_title(title, fontsize=50)\n",
    "    plt.subplots_adjust(left=0., right=1, top=0.9, bottom=0.)\n",
    "#     plt.savefig(output_file)\n",
    "    \n",
    "    \n",
    "def binary_image_transform(img):\n",
    "    \"\"\"Uses gradients to create a binary image\"\"\"\n",
    "\n",
    "    # Threshold x gradient\n",
    "    sobel_x = sobel_operator(img, dir='x')\n",
    "    s_x_binary = threshold_image(sobel_scale(sobel_x), thresh=(20, 100))\n",
    "\n",
    "    # Threshold color channel\n",
    "    hls = hls_transform(img)\n",
    "    s_channel = hls[:,:,2]\n",
    "    s_binary = threshold_image(s_channel, thresh=(170, 255))\n",
    "\n",
    "    # Combine the two binary thresholds\n",
    "    combined_binary = np.zeros_like(s_x_binary)\n",
    "    combined_binary[(s_binary == 1) | (s_x_binary == 1)] = 1\n",
    "    return combined_binary\n",
    "\n",
    "def unwarp(img, src, dst):\n",
    "    M = cv2.getPerspectiveTransform(src, dst)\n",
    "    img_size = (img.shape[1], img.shape[0])\n",
    "    warped = cv2.warpPerspective(img, M, img_size, flags=cv2.INTER_LINEAR)\n",
    "    return warped, M\n",
    "\n",
    "def hist(img):\n",
    "    return np.sum(img[img.shape[0]//2:,:], axis=0)\n",
    "\n",
    "\n",
    "def polyfit(img, y, x, order=2):\n",
    "    \"\"\"Fit polynomial\"\"\"\n",
    "    fit = np.poly1d(np.polyfit(y, x, order))\n",
    "\n",
    "    #y values for plotting\n",
    "    ploty = np.linspace(0, img.shape[0]-1, img.shape[0])\n",
    "    fit_x = fit(ploty)\n",
    "    return fit_x\n",
    "\n",
    "\n",
    "def detect_lane_lines(binary_warped, debug = False,nwindows = 9, margin = 100, minpix = 50):\n",
    "    # Set height of windows\n",
    "    window_height = np.int(binary_warped.shape[0]/nwindows)\n",
    "\n",
    "    histogram = hist(binary_warped)\n",
    "\n",
    "    out_img = None\n",
    "    if (debug==True):\n",
    "        # For debugging, an output image to visualize the result\n",
    "        out_img = np.dstack((binary_warped, binary_warped, binary_warped))*255\n",
    "\n",
    "    # Find the peak of the left and right halves of the histogram\n",
    "    # These will be the starting point for the left and right lines\n",
    "    midpoint = np.int(histogram.shape[0]/2)\n",
    "    leftx_base = np.argmax(histogram[:midpoint])\n",
    "    rightx_base = np.argmax(histogram[midpoint:]) + midpoint\n",
    "\n",
    "\n",
    "    # Identify the x and y positions of all nonzero pixels in the image\n",
    "    nonzero = binary_warped.nonzero()\n",
    "    nonzeroy = np.array(nonzero[0])\n",
    "    nonzerox = np.array(nonzero[1])\n",
    "    \n",
    "    # Current positions to be updated for each window\n",
    "    leftx_current = leftx_base\n",
    "    rightx_current = rightx_base\n",
    "\n",
    "    \n",
    "    # Create empty lists to receive left and right lane pixel indices\n",
    "    left_lane_inds = []\n",
    "    right_lane_inds = []\n",
    "\n",
    "    # Step through the windows one by one\n",
    "    for window in range(nwindows):\n",
    "\n",
    "        # Identify window boundaries in x and y (and right and left)\n",
    "        win_y_low = binary_warped.shape[0] - (window+1)*window_height\n",
    "        win_y_high = binary_warped.shape[0] - window*window_height\n",
    "        win_xleft_low = leftx_current - margin\n",
    "        win_xleft_high = leftx_current + margin\n",
    "        win_xright_low = rightx_current - margin\n",
    "        win_xright_high = rightx_current + margin\n",
    "        \n",
    "        if (debug==True):\n",
    "            # Draw the windows on the visualization image\n",
    "            cv2.rectangle(out_img,(win_xleft_low,win_y_low),(win_xleft_high,win_y_high),(0,255,0), 2) \n",
    "            cv2.rectangle(out_img,(win_xright_low,win_y_low),(win_xright_high,win_y_high),(0,255,0), 2) \n",
    "\n",
    "        # Identify the nonzero pixels in x and y within the window\n",
    "        good_left_inds = ((nonzeroy >= win_y_low) & (nonzeroy < win_y_high) & (nonzerox >= win_xleft_low) & (nonzerox < win_xleft_high)).nonzero()[0]\n",
    "        good_right_inds = ((nonzeroy >= win_y_low) & (nonzeroy < win_y_high) & (nonzerox >= win_xright_low) & (nonzerox < win_xright_high)).nonzero()[0]\n",
    "        \n",
    "        # Append these indices to the lists\n",
    "        left_lane_inds.append(good_left_inds)\n",
    "        right_lane_inds.append(good_right_inds)\n",
    "        \n",
    "        # If you found > minpix pixels, recenter next window on their mean position\n",
    "        if len(good_left_inds) > minpix:\n",
    "            leftx_current = np.int(np.mean(nonzerox[good_left_inds]))\n",
    "        if len(good_right_inds) > minpix:        \n",
    "            rightx_current = np.int(np.mean(nonzerox[good_right_inds]))\n",
    "\n",
    "    # Concatenate the arrays of indices\n",
    "    left_lane_inds = np.concatenate(left_lane_inds)\n",
    "    right_lane_inds = np.concatenate(right_lane_inds)\n",
    "\n",
    "    # Extract left and right line pixel positions\n",
    "    leftx = nonzerox[left_lane_inds]\n",
    "    lefty = nonzeroy[left_lane_inds] \n",
    "    rightx = nonzerox[right_lane_inds]\n",
    "    righty = nonzeroy[right_lane_inds] \n",
    "\n",
    "    left_fit = np.polyfit(lefty, leftx, 2)\n",
    "    right_fit = np.polyfit(righty, rightx, 2)\n",
    "    \n",
    "    # Generate x and y values for plotting\n",
    "    ploty = np.linspace(0, binary_warped.shape[0]-1, binary_warped.shape[0] )\n",
    "\n",
    "    left_fitx = polyfit(binary_warped, lefty, leftx, 2)\n",
    "    right_fitx = polyfit(binary_warped, righty, rightx, 2)\n",
    "\n",
    "    if (debug==True):\n",
    "        out_img[nonzeroy[left_lane_inds], nonzerox[left_lane_inds]] = [255, 0, 0]\n",
    "        out_img[nonzeroy[right_lane_inds], nonzerox[right_lane_inds]] = [0, 0, 255]\n",
    "        plt.imshow(out_img)\n",
    "        plt.plot(left_fitx, ploty, color='yellow')\n",
    "        plt.plot(right_fitx, ploty, color='yellow')\n",
    "        plt.xlim(0, 1280)\n",
    "        plt.ylim(720, 0)\n",
    "    return left_fit, right_fit, left_fitx, right_fitx\n",
    "\n",
    "def detect_lane_lines_subsequent_images(binary_warped, left_fit, right_fit, debug=False, margin = 100):\n",
    "    nonzero = binary_warped.nonzero()\n",
    "    nonzeroy = np.array(nonzero[0])\n",
    "    nonzerox = np.array(nonzero[1])\n",
    "\n",
    "    #TODO improve this \n",
    "    left_lane_inds = ((nonzerox > (left_fit[0]*(nonzeroy**2) + left_fit[1]*nonzeroy + left_fit[2] - margin)) & (nonzerox < (left_fit[0]*(nonzeroy**2) + left_fit[1]*nonzeroy + left_fit[2] + margin))) \n",
    "    right_lane_inds = ((nonzerox > (right_fit[0]*(nonzeroy**2) + right_fit[1]*nonzeroy + right_fit[2] - margin)) & (nonzerox < (right_fit[0]*(nonzeroy**2) + right_fit[1]*nonzeroy + right_fit[2] + margin)))  \n",
    "\n",
    "    # Again, extract left and right line pixel positions\n",
    "    leftx = nonzerox[left_lane_inds]\n",
    "    lefty = nonzeroy[left_lane_inds] \n",
    "    rightx = nonzerox[right_lane_inds]\n",
    "    righty = nonzeroy[right_lane_inds]\n",
    "\n",
    "    # Fit a second order polynomial to each\n",
    "    left_fitx = polyfit(binary_warped, lefty, leftx, 2)\n",
    "    right_fitx = polyfit(binary_warped, righty, rightx, 2)\n",
    "\n",
    "    \n",
    "    ploty = np.linspace(0, binary_warped.shape[0]-1, binary_warped.shape[0] )\n",
    "\n",
    "    if (debug==True):\n",
    "        # Create an image to draw on and an image to show the selection window\n",
    "        out_img = np.dstack((binary_warped, binary_warped, binary_warped))*255\n",
    "        window_img = np.zeros_like(out_img)\n",
    "        # Color in left and right line pixels\n",
    "        out_img[nonzeroy[left_lane_inds], nonzerox[left_lane_inds]] = [255, 0, 0]\n",
    "        out_img[nonzeroy[right_lane_inds], nonzerox[right_lane_inds]] = [0, 0, 255]\n",
    "\n",
    "        # Generate a polygon to illustrate the search window area\n",
    "        # And recast the x and y points into usable format for cv2.fillPoly()\n",
    "        left_line_window1 = np.array([np.transpose(np.vstack([left_fitx-margin, ploty]))])\n",
    "        left_line_window2 = np.array([np.flipud(np.transpose(np.vstack([left_fitx+margin, ploty])))])\n",
    "        left_line_pts = np.hstack((left_line_window1, left_line_window2))\n",
    "        right_line_window1 = np.array([np.transpose(np.vstack([right_fitx-margin, ploty]))])\n",
    "        right_line_window2 = np.array([np.flipud(np.transpose(np.vstack([right_fitx+margin, ploty])))])\n",
    "        right_line_pts = np.hstack((right_line_window1, right_line_window2))\n",
    "\n",
    "        # Draw the lane onto the warped blank image\n",
    "        cv2.fillPoly(window_img, np.int_([left_line_pts]), (0,255, 0))\n",
    "        cv2.fillPoly(window_img, np.int_([right_line_pts]), (0,255, 0))\n",
    "        result = cv2.addWeighted(out_img, 1, window_img, 0.3, 0)\n",
    "        plt.imshow(result)\n",
    "        plt.plot(left_fitx, ploty, color='yellow')\n",
    "        plt.plot(right_fitx, ploty, color='yellow')\n",
    "        plt.xlim(0, 1280)\n",
    "        plt.ylim(720, 0)\n",
    "        \n",
    "    return left_fit, right_fit, left_fitx, right_fitx\n",
    "\n",
    "        \n",
    "def curvature(binary_warped, left_fitx, right_fitx):    \n",
    "    ploty = np.linspace(0, binary_warped.shape[0]-1, binary_warped.shape[0] )\n",
    "    y_eval = np.max(ploty)\n",
    "\n",
    "    leftx = left_fitx\n",
    "    rightx = right_fitx\n",
    "\n",
    "    # Define conversions in x and y from pixels space to meters\n",
    "    ym_per_pix = 30/720 # meters per pixel in y dimension\n",
    "    xm_per_pix = 3.7/700 # meters per pixel in x dimension\n",
    "\n",
    "    # Fit new polynomials to x,y in world space\n",
    "    left_fit_cr = np.polyfit(ploty*ym_per_pix, leftx*xm_per_pix, 2)\n",
    "    right_fit_cr = np.polyfit(ploty*ym_per_pix, rightx*xm_per_pix, 2)\n",
    "    # Calculate the new radii of curvature\n",
    "    left_curverad = ((1 + (2*left_fit_cr[0]*y_eval*ym_per_pix + left_fit_cr[1])**2)**1.5) / np.absolute(2*left_fit_cr[0])\n",
    "    right_curverad = ((1 + (2*right_fit_cr[0]*y_eval*ym_per_pix + right_fit_cr[1])**2)**1.5) / np.absolute(2*right_fit_cr[0])\n",
    "\n",
    "    # Now our radius of curvature is in meters\n",
    "    center_of_lanes = ((right_fitx[-1] - left_fitx[-1]) //2 + left_fitx[-1]) * xm_per_pix\n",
    "    center_of_car = (binary_warped.shape[1] // 2) * xm_per_pix\n",
    "    return left_curverad, right_curverad, (center_of_lanes - center_of_car)\n",
    "\n",
    "def warp_detected_lines_onto_original(original, warped, left_fitx, right_fitx, Minv):\n",
    "    # Create an image to draw the lines on\n",
    "    warp_zero = np.zeros_like(warped).astype(np.uint8)\n",
    "    color_warp = np.dstack((warp_zero, warp_zero, warp_zero))\n",
    "\n",
    "    ploty = np.linspace(0, warped.shape[0]-1, warped.shape[0] )\n",
    "\n",
    "    # Recast the x and y points into usable format for cv2.fillPoly()\n",
    "    pts_left = np.array([np.transpose(np.vstack([left_fitx, ploty]))])\n",
    "    pts_right = np.array([np.flipud(np.transpose(np.vstack([right_fitx, ploty])))])\n",
    "    pts = np.hstack((pts_left, pts_right))\n",
    "\n",
    "    # Draw the lane onto the warped blank image\n",
    "    cv2.fillPoly(color_warp, np.int_([pts]), (0,255, 0))\n",
    "\n",
    "    # Warp the blank back to original image space using inverse perspective matrix (Minv)\n",
    "    newwarp = cv2.warpPerspective(color_warp, Minv, (original.shape[1], original.shape[0])) \n",
    "    # Combine the result with the original image\n",
    "    result = cv2.addWeighted(original, 1, newwarp, 0.3, 0)\n",
    "#     plt.imshow(result)\n",
    "    return result\n"
   ]
  },
  {
   "cell_type": "markdown",
   "metadata": {},
   "source": [
    "## Compute the camera calibration using chessboard images"
   ]
  },
  {
   "cell_type": "code",
   "execution_count": 10,
   "metadata": {},
   "outputs": [
    {
     "name": "stdout",
     "output_type": "stream",
     "text": [
      "processing image: ../camera_cal/calibration1.jpg\n",
      "processing image: ../camera_cal/calibration10.jpg\n",
      "processing image: ../camera_cal/calibration11.jpg\n",
      "processing image: ../camera_cal/calibration12.jpg\n",
      "processing image: ../camera_cal/calibration13.jpg\n",
      "processing image: ../camera_cal/calibration14.jpg\n",
      "processing image: ../camera_cal/calibration15.jpg\n",
      "processing image: ../camera_cal/calibration16.jpg\n",
      "processing image: ../camera_cal/calibration17.jpg\n",
      "processing image: ../camera_cal/calibration18.jpg\n",
      "processing image: ../camera_cal/calibration19.jpg\n",
      "processing image: ../camera_cal/calibration2.jpg\n",
      "processing image: ../camera_cal/calibration20.jpg\n",
      "processing image: ../camera_cal/calibration3.jpg\n",
      "processing image: ../camera_cal/calibration4.jpg\n",
      "processing image: ../camera_cal/calibration5.jpg\n",
      "processing image: ../camera_cal/calibration6.jpg\n",
      "processing image: ../camera_cal/calibration7.jpg\n",
      "processing image: ../camera_cal/calibration8.jpg\n",
      "processing image: ../camera_cal/calibration9.jpg\n"
     ]
    }
   ],
   "source": [
    "images = glob.glob('../camera_cal/calibration*.jpg')\n",
    "cameraMatrix, distCoeffs = calibrate(images)\n"
   ]
  },
  {
   "cell_type": "markdown",
   "metadata": {},
   "source": [
    "## Apply a distortion correction to a raw images"
   ]
  },
  {
   "cell_type": "code",
   "execution_count": 34,
   "metadata": {
    "collapsed": true
   },
   "outputs": [],
   "source": [
    "img = mpimg.imread('../camera_cal/calibration1.jpg')\n",
    "undist = undistort_image(img, cameraMatrix, distCoeffs)\n",
    "plot_2_images(img, undist)"
   ]
  },
  {
   "cell_type": "markdown",
   "metadata": {},
   "source": [
    "## Create a thresholded binary image."
   ]
  },
  {
   "cell_type": "code",
   "execution_count": 16,
   "metadata": {
    "collapsed": true
   },
   "outputs": [],
   "source": [
    "binary_image = binary_image_transform(undist)\n",
    "plot_2_images(img, binary_image)\n"
   ]
  },
  {
   "cell_type": "markdown",
   "metadata": {},
   "source": [
    "## Apply a perspective transform to rectify binary image (\"birds-eye view\")."
   ]
  },
  {
   "cell_type": "code",
   "execution_count": 31,
   "metadata": {
    "collapsed": true
   },
   "outputs": [],
   "source": [
    "img_size = (binary_image.shape[1], binary_image.shape[0])\n",
    "src = np.float32(\n",
    "    [[(img_size[0] / 2) - 55, img_size[1] / 2 + 100],\n",
    "    [((img_size[0] / 6) - 10), img_size[1]],\n",
    "    [(img_size[0] * 5 / 6) + 60, img_size[1]],\n",
    "    [(img_size[0] / 2 + 55), img_size[1] / 2 + 100]])\n",
    "dst = np.float32(\n",
    "    [[(img_size[0] / 4), 0],\n",
    "    [(img_size[0] / 4), img_size[1]],\n",
    "    [(img_size[0] * 3 / 4), img_size[1]],\n",
    "    [(img_size[0] * 3 / 4), 0]])\n",
    "warped, M = unwarp(binary_image, src, dst)\n",
    "Minv = cv2.getPerspectiveTransform(dst, src)\n",
    "\n",
    "plot_2_images(undist, warped)\n"
   ]
  },
  {
   "cell_type": "code",
   "execution_count": null,
   "metadata": {
    "collapsed": true
   },
   "outputs": [],
   "source": []
  },
  {
   "cell_type": "code",
   "execution_count": 39,
   "metadata": {},
   "outputs": [
    {
     "name": "stdout",
     "output_type": "stream",
     "text": [
      "[[[ 585  460]]\n",
      "\n",
      " [[ 203  720]]\n",
      "\n",
      " [[1126  720]]\n",
      "\n",
      " [[ 695  460]]]\n",
      "[[[320   0]]\n",
      "\n",
      " [[320 720]]\n",
      "\n",
      " [[960 720]]\n",
      "\n",
      " [[960   0]]]\n"
     ]
    }
   ],
   "source": [
    "warped_undist, M2 = unwarp(undist, src, dst)\n",
    "\n",
    "src = np.int32(src.reshape((-1,1,2)))\n",
    "dst = np.int32(dst.reshape((-1,1,2)))\n",
    "\n",
    "print(src)\n",
    "print(dst)\n",
    "\n",
    "\n",
    "cv2.polylines(undist,[src],True,(255,0,0))\n",
    "cv2.polylines(warped_undist,[dst],True,(255,0,0))\n",
    "\n",
    "plot_2_images(undist, warped_undist)"
   ]
  },
  {
   "cell_type": "markdown",
   "metadata": {},
   "source": [
    "## Detect lane pixels and fit to find the lane boundary."
   ]
  },
  {
   "cell_type": "code",
   "execution_count": 21,
   "metadata": {
    "collapsed": true
   },
   "outputs": [],
   "source": [
    "left_fit, right_fit, left_fitx, right_fitx = detect_lane_lines(warped, debug=True)\n",
    "left_fit, right_fit, left_fitx, right_fitx = detect_lane_lines_subsequent_images(warped, left_fit, right_fit, debug=False)\n"
   ]
  },
  {
   "cell_type": "markdown",
   "metadata": {},
   "source": [
    "## Determine the curvature of the lane and vehicle position with respect to center."
   ]
  },
  {
   "cell_type": "code",
   "execution_count": 22,
   "metadata": {},
   "outputs": [
    {
     "name": "stdout",
     "output_type": "stream",
     "text": [
      "7380.51768465 m 3589.6791103 m -0.0199985290654\n"
     ]
    }
   ],
   "source": [
    "left_curverad, right_curverad, diff_center = curvature(warped, left_fitx, right_fitx)\n",
    "print(left_curverad, 'm', right_curverad, 'm', diff_center)"
   ]
  },
  {
   "cell_type": "markdown",
   "metadata": {},
   "source": [
    "## Warp the detected lane boundaries back onto the original image."
   ]
  },
  {
   "cell_type": "code",
   "execution_count": 24,
   "metadata": {},
   "outputs": [],
   "source": [
    "result = warp_detected_lines_onto_original(undist, warped, left_fitx, right_fitx, Minv)\n",
    "plot_2_images(img, result)"
   ]
  },
  {
   "cell_type": "markdown",
   "metadata": {},
   "source": [
    "## Output visual display of the lane boundaries and numerical estimation of lane curvature and vehicle position."
   ]
  },
  {
   "cell_type": "code",
   "execution_count": 25,
   "metadata": {
    "collapsed": true
   },
   "outputs": [],
   "source": [
    "# title = \"Radius of curvature = {:f}(m)\\nVehicle is {:f}m {!s} of center \".format(np.mean(left_curverad,right_curverad), np.abs(diff_center), 'left')\n",
    "text = 'Radius of curvature = {:f}(m)\\nVehicle is {:f}m {!s} of center'.format(np.mean([left_curverad,right_curverad]), np.abs(diff_center), 'left' if diff_center > 0 else 'right')\n",
    "plot_image_title(result, '', text)"
   ]
  },
  {
   "cell_type": "markdown",
   "metadata": {},
   "source": [
    "## Define a class to receive the characteristics of each line detection"
   ]
  },
  {
   "cell_type": "code",
   "execution_count": 35,
   "metadata": {
    "collapsed": true
   },
   "outputs": [],
   "source": [
    "class Line():\n",
    "    def __init__(self):\n",
    "        #loss count\n",
    "        self.loss_count = 0\n",
    "        # was the line detected in the last iteration?\n",
    "        self.detected = False  \n",
    "        # x values of the last n fits of the line\n",
    "        self.recent_xfitted = []\n",
    "        #average x values of the fitted line over the last n iterations\n",
    "        self.bestx = None     \n",
    "        #polynomial coefficients of the last n fits of the line\n",
    "        self.recent_fit = []\n",
    "        #polynomial coefficients averaged over the last n iterations\n",
    "        self.best_fit = None  \n",
    "        #polynomial coefficients for the most recent fit\n",
    "        self.current_fit = [np.array([False])]  \n",
    "        #radius of curvature of the line in some units\n",
    "        self.radius_of_curvature = None \n",
    "        #distance in meters of vehicle center from the line\n",
    "        self.line_base_pos = None \n",
    "        #difference in fit coefficients between last and new fits\n",
    "        self.diffs = np.array([0,0,0], dtype='float') \n",
    "        #x values for detected line pixels\n",
    "        self.allx = None  \n",
    "        #y values for detected line pixels\n",
    "        self.ally = None\n",
    "    #update the stats\n",
    "    def update(self, fit, fitx, radius_of_curvature, line_base_pos, warped):\n",
    "        ploty = np.linspace(0, warped.shape[0]-1, warped.shape[0] )\n",
    "        n = len(self.recent_xfitted)\n",
    "        \n",
    "        if (n > 2):\n",
    "            removed_fitx = self.recent_xfitted.pop\n",
    "            removed_fit = self.recent_fit.pop\n",
    "        \n",
    "        self.recent_xfitted.append(fitx)\n",
    "        self.bestx = np.mean(self.recent_xfitted, axis=0,keepdims=True)\n",
    "        self.recent_fit.append(fit)\n",
    "        self.best_fit = np.mean(self.recent_fit)\n",
    "        self.radius_of_curvature = radius_of_curvature\n",
    "        self.line_base_pos = line_base_pos \n",
    "        self.diffs = self.current_fit - fit\n",
    "        self.current_fit = fit\n",
    "        self.allx = fitx\n",
    "        self.ally = ploty\n",
    "        self.detected = True\n",
    "        self.loss_count = np.max([self.loss_count-1, 0])\n",
    "    def reset():\n",
    "        self.detected = False  \n",
    "        self.recent_xfitted = [] \n",
    "        self.bestx = None     \n",
    "        self.best_fit = None  \n",
    "        self.current_fit = [np.array([False])]  \n",
    "        self.radius_of_curvature = None \n",
    "        self.line_base_pos = None \n",
    "        self.diffs = np.array([0,0,0], dtype='float') \n",
    "        self.allx = None  \n",
    "        self.ally = None\n",
    "        self.loss_count=0        \n",
    "\n",
    "        \n",
    "        \n",
    "        \n",
    "        \n",
    "        "
   ]
  },
  {
   "cell_type": "markdown",
   "metadata": {},
   "source": [
    "## Pipeline"
   ]
  },
  {
   "cell_type": "code",
   "execution_count": 27,
   "metadata": {
    "collapsed": true
   },
   "outputs": [],
   "source": [
    "def sanity_check(leftLine, rightLine, left_fit, right_fit, left_fitx, right_fitx, left_curverad, right_curverad, diff_center):\n",
    "    \n",
    "    #Checking that lines have similar curvature\n",
    "    if ( (left_curverad-right_curverad) / right_curverad > 2):\n",
    "#         print(\"left_curverad, right_curverad\")\n",
    "#         print(left_curverad, right_curverad)\n",
    "        return False\n",
    "\n",
    "    #Checking that lines are separated by approximately the right distance horizontally\n",
    "    xm_per_pix = 3.7/700 # meters per pixel in x dimension\n",
    "    if ( ((right_fitx[-1]-left_fitx[-1]) * xm_per_pix - 3.7) > 1e-1):\n",
    "#         print(\"right_fitx[-1], left_fitx[-1\")\n",
    "#         print(right_fitx[-1], left_fitx[-1])\n",
    "        return False\n",
    "\n",
    "    #Checking that lines are roughly parallel\n",
    "    upper = right_fitx[0] - left_fitx[0]\n",
    "    lower = right_fitx[-1] - left_fitx[-1]\n",
    "    if ( (upper-lower) / lower < 11e-2):\n",
    "#         print(\"upper, lower\")\n",
    "#         print(upper, lower)\n",
    "        return False\n",
    "#     print('great, passed sanity checks!')\n",
    "    \n",
    "    return True\n"
   ]
  },
  {
   "cell_type": "code",
   "execution_count": 28,
   "metadata": {
    "collapsed": true
   },
   "outputs": [],
   "source": [
    "def sanity_check_update_lines(left_fit, right_fit, left_fitx, right_fitx, warped, leftLine, rightLine):\n",
    "    left_curverad, right_curverad, diff_center = curvature(warped, left_fitx, right_fitx)\n",
    "\n",
    "    if (sanity_check(leftLine, rightLine, left_fit, right_fit, left_fitx, right_fitx, left_curverad, right_curverad, diff_center)):\n",
    "        leftLine.update(left_fit, left_fitx, left_curverad, diff_center, warped)\n",
    "        rightLine.update(right_fit, right_fitx, right_curverad, diff_center, warped)\n",
    "    else:\n",
    "        leftLine.detected = False\n",
    "        leftLine.loss_count += 1\n",
    "\n",
    "        rightLine.detected = False\n",
    "        rightLine.loss_count += 1\n",
    "        \n",
    "    return left_curverad, right_curverad, diff_center"
   ]
  },
  {
   "cell_type": "code",
   "execution_count": 29,
   "metadata": {
    "collapsed": true
   },
   "outputs": [],
   "source": [
    "def pipeline(img, simple=True):\n",
    "    \"\"\"\n",
    "    1) Sanity Check\n",
    "    2) Look-Ahead Filter\n",
    "    3) Reset\n",
    "    4) Smoothing\n",
    "    5) Drawing\n",
    "    \"\"\"\n",
    "    undist = undistort_image(img, cameraMatrix, distCoeffs)\n",
    "    binary_image = binary_image_transform(undist)\n",
    "    warped, M = unwarp(binary_image, src, dst)\n",
    "    \n",
    "    if (simple):\n",
    "        left_fit, right_fit, left_fitx, right_fitx = detect_lane_lines(warped)\n",
    "        left_curverad, right_curverad, diff_center = sanity_check_update_lines(left_fit, right_fit, left_fitx, right_fitx, warped, leftLine, rightLine)\n",
    "    else:    \n",
    "        if (len(leftLine.recent_xfitted) > 0 & leftLine.loss_count < 5 & len(rightLine.recent_xfitted) > 0  & rightLine.loss_count < 5):\n",
    "            left_fit, right_fit, left_fitx, right_fitx = detect_lane_lines_subsequent_images(warped, leftLine.best_fit, rightLine.best_fit)\n",
    "            left_curverad, right_curverad, diff_center = sanity_check_update_lines(left_fit, right_fit, left_fitx, right_fitx, warped, leftLine, rightLine)        \n",
    "        else:\n",
    "            leftLine.reset\n",
    "            rightLine.reset\n",
    "            left_fit, right_fit, left_fitx, right_fitx = detect_lane_lines(warped)\n",
    "            left_curverad, right_curverad, diff_center = sanity_check_update_lines(left_fit, right_fit, left_fitx, right_fitx, warped, leftLine, rightLine)\n",
    "        \n",
    "    result = warp_detected_lines_onto_original(undist, warped, leftLine.bestx, rightLine.bestx, Minv)\n",
    "    text1 = 'Radius of curvature = {:f}(m)'.format(np.mean([left_curverad,right_curverad]))\n",
    "    text2 = 'Vehicle is {:f}m {!s} of center'.format(np.abs(diff_center), 'left' if diff_center > 0 else 'right')\n",
    "    font = cv2.FONT_HERSHEY_SIMPLEX\n",
    "    cv2.putText(result,text1,(10,50), font, 1,(255,255,255),2,cv2.LINE_AA)\n",
    "    cv2.putText(result,text2,(10,95), font, 1,(255,255,255),2,cv2.LINE_AA)\n",
    "    \n",
    "    return result\n",
    "    \n",
    "\n",
    "    \n",
    "    "
   ]
  },
  {
   "cell_type": "code",
   "execution_count": 38,
   "metadata": {},
   "outputs": [
    {
     "name": "stdout",
     "output_type": "stream",
     "text": [
      "straight_lines1.jpg\n",
      "straight_lines2.jpg\n",
      "test1.jpg\n",
      "test2.jpg\n",
      "test3.jpg\n",
      "test4.jpg\n",
      "test5.jpg\n",
      "test6.jpg\n"
     ]
    }
   ],
   "source": [
    "import os\n",
    "test_image_file_names = os.listdir(\"../test_images/\")\n",
    "leftLine = Line()\n",
    "rightLine = Line()\n",
    "for image_file_name in test_image_file_names:\n",
    "    print(image_file_name)\n",
    "    image = mpimg.imread(\"../test_images/\" + image_file_name)    \n",
    "    result = pipeline(image, simple=True)\n",
    "    mpimg.imsave(\"../output_images/\" + image_file_name, result)"
   ]
  },
  {
   "cell_type": "code",
   "execution_count": 36,
   "metadata": {},
   "outputs": [
    {
     "name": "stdout",
     "output_type": "stream",
     "text": [
      "[MoviePy] >>>> Building video ../output_images/project_video.mp4\n",
      "[MoviePy] Writing video ../output_images/project_video.mp4\n"
     ]
    },
    {
     "name": "stderr",
     "output_type": "stream",
     "text": [
      "100%|█████████▉| 1260/1261 [05:55<00:00,  3.38it/s]\n"
     ]
    },
    {
     "name": "stdout",
     "output_type": "stream",
     "text": [
      "[MoviePy] Done.\n",
      "[MoviePy] >>>> Video ready: ../output_images/project_video.mp4 \n",
      "\n",
      "CPU times: user 8min 30s, sys: 25.6 s, total: 8min 55s\n",
      "Wall time: 5min 56s\n"
     ]
    }
   ],
   "source": [
    "# Import everything needed to edit/save/watch video clips\n",
    "from moviepy.editor import VideoFileClip\n",
    "from IPython.display import HTML\n",
    "def process_image(image):\n",
    "    result = pipeline(image)\n",
    "    return result\n",
    "\n",
    "output = '../output_images/project_video.mp4'\n",
    "clip1 = VideoFileClip(\"../project_video.mp4\")\n",
    "white_clip = clip1.fl_image(process_image) #NOTE: this function expects color images!!\n",
    "%time white_clip.write_videofile(output, audio=False)"
   ]
  },
  {
   "cell_type": "code",
   "execution_count": 490,
   "metadata": {},
   "outputs": [
    {
     "name": "stdout",
     "output_type": "stream",
     "text": [
      "[MoviePy] >>>> Building video ../output_images/challenge_video.mp4\n",
      "[MoviePy] Writing video ../output_images/challenge_video.mp4\n"
     ]
    },
    {
     "name": "stderr",
     "output_type": "stream",
     "text": [
      "100%|██████████| 485/485 [02:15<00:00,  3.65it/s]\n"
     ]
    },
    {
     "name": "stdout",
     "output_type": "stream",
     "text": [
      "[MoviePy] Done.\n",
      "[MoviePy] >>>> Video ready: ../output_images/challenge_video.mp4 \n",
      "\n",
      "CPU times: user 3min 14s, sys: 9.16 s, total: 3min 23s\n",
      "Wall time: 2min 16s\n"
     ]
    }
   ],
   "source": [
    "# Import everything needed to edit/save/watch video clips\n",
    "from moviepy.editor import VideoFileClip\n",
    "from IPython.display import HTML\n",
    "def process_image(image):\n",
    "    result = pipeline(image)\n",
    "    return result\n",
    "\n",
    "output = '../output_images/challenge_video.mp4'\n",
    "clip1 = VideoFileClip(\"../challenge_video.mp4\")\n",
    "white_clip = clip1.fl_image(process_image) #NOTE: this function expects color images!!\n",
    "%time white_clip.write_videofile(output, audio=False)"
   ]
  },
  {
   "cell_type": "code",
   "execution_count": 491,
   "metadata": {},
   "outputs": [
    {
     "name": "stdout",
     "output_type": "stream",
     "text": [
      "[MoviePy] >>>> Building video ../output_images/harder_challenge_video.mp4\n",
      "[MoviePy] Writing video ../output_images/harder_challenge_video.mp4\n"
     ]
    },
    {
     "name": "stderr",
     "output_type": "stream",
     "text": [
      "100%|█████████▉| 1199/1200 [06:07<00:00,  3.52it/s]\n"
     ]
    },
    {
     "name": "stdout",
     "output_type": "stream",
     "text": [
      "[MoviePy] Done.\n",
      "[MoviePy] >>>> Video ready: ../output_images/harder_challenge_video.mp4 \n",
      "\n",
      "CPU times: user 8min 26s, sys: 27.4 s, total: 8min 54s\n",
      "Wall time: 6min 8s\n"
     ]
    }
   ],
   "source": [
    "# Import everything needed to edit/save/watch video clips\n",
    "from moviepy.editor import VideoFileClip\n",
    "from IPython.display import HTML\n",
    "def process_image(image):\n",
    "    result = pipeline(image)\n",
    "    return result\n",
    "\n",
    "output = '../output_images/harder_challenge_video.mp4'\n",
    "clip1 = VideoFileClip(\"../harder_challenge_video.mp4\")\n",
    "white_clip = clip1.fl_image(process_image) #NOTE: this function expects color images!!\n",
    "%time white_clip.write_videofile(output, audio=False)"
   ]
  },
  {
   "cell_type": "code",
   "execution_count": null,
   "metadata": {
    "collapsed": true
   },
   "outputs": [],
   "source": []
  }
 ],
 "metadata": {
  "anaconda-cloud": {},
  "kernelspec": {
   "display_name": "Python 3",
   "language": "python",
   "name": "python3"
  },
  "language_info": {
   "codemirror_mode": {
    "name": "ipython",
    "version": 3
   },
   "file_extension": ".py",
   "mimetype": "text/x-python",
   "name": "python",
   "nbconvert_exporter": "python",
   "pygments_lexer": "ipython3",
   "version": "3.5.2"
  },
  "widgets": {
   "state": {},
   "version": "1.1.2"
  }
 },
 "nbformat": 4,
 "nbformat_minor": 1
}
